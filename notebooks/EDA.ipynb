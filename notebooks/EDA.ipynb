# EDA.ipynb (A few sample cells)

# Cell 1: Introduction and Data Loading
import pandas as pd
import matplotlib.pyplot as plt
import seaborn as sns
from scripts.preprocessing import load_and_clean_data

data_path = "../data/online_retail.csv"
df = load_and_clean_data(data_path)
df.head()

# Cell 2: Sales Over Time
df['InvoiceDate'] = pd.to_datetime(df['InvoiceDate'])
df.set_index('InvoiceDate', inplace=True)
monthly_sales = df.resample('M').sum()['TotalPrice']
plt.figure(figsize=(12,6))
plt.plot(monthly_sales.index, monthly_sales.values, marker='o')
plt.title('Monthly Sales')
plt.xlabel('Month')
plt.ylabel('Total Sales')
plt.show()

# Cell 3: Top 10 Products by Quantity
top_products = df.groupby('Description')['Quantity'].sum().sort_values(ascending=False).head(10)
plt.figure(figsize=(12,6))
sns.barplot(x=top_products.values, y=top_products.index, palette="viridis")
plt.title('Top 10 Products by Quantity')
plt.xlabel('Quantity Sold')
plt.show()
